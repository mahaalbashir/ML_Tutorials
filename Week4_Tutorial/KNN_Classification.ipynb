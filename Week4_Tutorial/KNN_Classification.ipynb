{
 "cells": [
  {
   "cell_type": "markdown",
   "metadata": {},
   "source": [
    "# Classifcation using K Nearest Neighbour (KNN)"
   ]
  },
  {
   "cell_type": "code",
   "execution_count": null,
   "metadata": {},
   "outputs": [],
   "source": [
    "import numpy as np\n",
    "import pandas as pd\n",
    "from sklearn.model_selection import train_test_split\n",
    "from sklearn.neighbors import KNeighborsClassifier\n",
    "from sklearn.metrics import plot_confusion_matrix\n",
    "from sklearn.metrics import f1_score\n",
    "import matplotlib.pyplot as plt\n",
    "%matplotlib inline"
   ]
  },
  {
   "cell_type": "markdown",
   "metadata": {},
   "source": [
    "## Task 1"
   ]
  },
  {
   "cell_type": "code",
   "execution_count": null,
   "metadata": {},
   "outputs": [],
   "source": [
    "#read the breast cancer data from the local device\n",
    "df = pd.read_csv('/Users/mahaa/OneDrive/Desktop/UWE/Semester_2/Machine Learning/Week4/Tutorial/data/breast-cancer-wisconsin.data.txt')\n",
    "#df.head()"
   ]
  },
  {
   "cell_type": "markdown",
   "metadata": {},
   "source": [
    "## Exploratory data analysis"
   ]
  },
  {
   "cell_type": "code",
   "execution_count": null,
   "metadata": {},
   "outputs": [],
   "source": [
    "#checking for null values\n",
    "df.isnull().sum()"
   ]
  },
  {
   "cell_type": "code",
   "execution_count": null,
   "metadata": {},
   "outputs": [],
   "source": [
    "#checking for nonsense values\n",
    "unique_values = []\n",
    "for col in df.columns:\n",
    "    unique_values.extend(df[col].unique()) \n",
    "print(unique_values)"
   ]
  },
  {
   "cell_type": "code",
   "execution_count": null,
   "metadata": {},
   "outputs": [],
   "source": [
    "#replace the ? with number\n",
    "df.replace('?',-9999, inplace = True)"
   ]
  },
  {
   "cell_type": "code",
   "execution_count": null,
   "metadata": {},
   "outputs": [],
   "source": [
    "#delete the id cloumn\n",
    "df_1 = df.drop(['id'], 1)"
   ]
  },
  {
   "cell_type": "markdown",
   "metadata": {},
   "source": [
    "## Training and Testing"
   ]
  },
  {
   "cell_type": "code",
   "execution_count": null,
   "metadata": {},
   "outputs": [],
   "source": [
    "#divide the data frame into input array and output array\n",
    "x = np.array(df_1.drop(['class'], 1)) \n",
    "y = np.array(df_1['class'])"
   ]
  },
  {
   "cell_type": "code",
   "execution_count": null,
   "metadata": {},
   "outputs": [],
   "source": [
    "#Split the data into training data and testing data\n",
    "#random state is used to produce the same training and testing data every time this function is run\n",
    "X_train, X_test, y_train, y_test = train_test_split(x, y, random_state = 0)"
   ]
  },
  {
   "cell_type": "code",
   "execution_count": null,
   "metadata": {},
   "outputs": [],
   "source": [
    "#train the data using KNN with one neighbor\n",
    "clf = KNeighborsClassifier(n_neighbors = 1)\n",
    "clf.fit(X_train, y_train)\n",
    "\n",
    "#evaluate the model in the training and testing data\n",
    "print(clf.score(X_train,y_train))\n",
    "print(clf.score(X_test, y_test))"
   ]
  },
  {
   "cell_type": "code",
   "execution_count": null,
   "metadata": {},
   "outputs": [],
   "source": [
    "#predict the class of new instance using the model\n",
    "data = np.array([4,3,3,2,1,2,1,1,2])\n",
    "print(data.reshape(1,-1))\n",
    "prediction = clf.predict(data.reshape(1,-1)) #-1 means unknown dimension, it will be calculated\n",
    "print(prediction)"
   ]
  },
  {
   "cell_type": "markdown",
   "metadata": {},
   "source": [
    "### Task 1a\n",
    "Change the number of neighbors and test the model"
   ]
  },
  {
   "cell_type": "code",
   "execution_count": null,
   "metadata": {},
   "outputs": [],
   "source": [
    "#train the data using KNN with diffrent neighbors values with the default distance function\n",
    "for n in range(1,11):\n",
    "    clf_1 = KNeighborsClassifier(n_neighbors = n)\n",
    "    clf_1.fit(X_train, y_train)\n",
    "\n",
    "    #evaluate the model in the training and testing data\n",
    "    print(\"The accuracy of KNN with\", n, \"neighbors in the training data is:\", round(clf_1.score(X_train,y_train),3))\n",
    "    print(\"The accuracy of KNN with\", n, \"neighbors in the testing data is:\", round(clf_1.score(X_test, y_test),3), \"\\n\")"
   ]
  },
  {
   "cell_type": "markdown",
   "metadata": {},
   "source": [
    "The model performs better when training with KNN with 5 neighours"
   ]
  },
  {
   "cell_type": "markdown",
   "metadata": {},
   "source": [
    "### Task 1b\n",
    "Leave the id column and evaluate the model"
   ]
  },
  {
   "cell_type": "code",
   "execution_count": null,
   "metadata": {},
   "outputs": [],
   "source": [
    "#divide the data frame into input array and output array\n",
    "x1 = np.array(df.drop(['class'], 1)) \n",
    "y1 = np.array(df['class'])\n",
    "\n",
    "#Split the data into training data and testing data\n",
    "X_train1, X_test1, y_train1, y_test1 = train_test_split(x1, y1, random_state = 0)\n",
    "\n",
    "#train the data using KNN with diffrent neighbors values\n",
    "for n in range(2,11):\n",
    "    clf_2 = KNeighborsClassifier(n_neighbors = n)\n",
    "    clf_2.fit(X_train1, y_train1)\n",
    "\n",
    "    #evaluate the model in the training and testing data\n",
    "    print(\"The accuracy of KNN with\", n, \"neighbors in the training data is:\", round(clf_2.score(X_train1,y_train1),3))\n",
    "    print(\"The accuracy of KNN with\", n, \"neighbors in the testing data is:\", round(clf_2.score(X_test1, y_test1),3), \"\\n\")"
   ]
  },
  {
   "cell_type": "markdown",
   "metadata": {},
   "source": [
    "The acuuracy of the model decrese significantly after adding the id column to the model. This is because id in not correlated with the output class. Thus, it does not add any valuable information when predicting the output class."
   ]
  },
  {
   "cell_type": "markdown",
   "metadata": {},
   "source": [
    "### Task 1c\n",
    "Use manhaten distance"
   ]
  },
  {
   "cell_type": "code",
   "execution_count": null,
   "metadata": {},
   "outputs": [],
   "source": [
    "#train the data using KNN with diffrent neighbors values and Manhatten distance\n",
    "for n in range(1,11):\n",
    "    clf_3 = KNeighborsClassifier(n_neighbors = n, metric = 'manhattan')\n",
    "    clf_3.fit(X_train, y_train)\n",
    "\n",
    "    #evaluate the model in the training and testing data\n",
    "    print(\"The accuracy of KNN with\", n, \"neighbors in the training data is:\", round(clf_3.score(X_train,y_train),3))\n",
    "    print(\"The accuracy of KNN with\", n, \"neighbors in the testing data is:\", round(clf_3.score(X_test, y_test),3), \"\\n\")"
   ]
  },
  {
   "cell_type": "markdown",
   "metadata": {},
   "source": [
    "Still Euclidean distance gives the heightes model performance"
   ]
  },
  {
   "cell_type": "markdown",
   "metadata": {},
   "source": [
    "## Task 2\n",
    "Plot the training acuuracy and the testing accuracy while K range from 1 to 10. Then check which k value is better in this case "
   ]
  },
  {
   "cell_type": "code",
   "execution_count": null,
   "metadata": {},
   "outputs": [],
   "source": [
    "#Plot shows the training and testing accuracy using diffrent K values\n",
    "training_accuracy = []\n",
    "testing_accuracy = []\n",
    "\n",
    "for n_neighbors in range (1,11):\n",
    "    #build the model\n",
    "    clf_4 = KNeighborsClassifier(n_neighbors = n_neighbors)\n",
    "    clf_4.fit(X_train, y_train)\n",
    "    \n",
    "    #record training test accuracy\n",
    "    training_accuracy.append(clf_4.score(X_train, y_train))\n",
    "    #record training test accuracy\n",
    "    testing_accuracy.append(clf_4.score(X_test, y_test))\n",
    "    \n",
    "print(training_accuracy)\n",
    "print(testing_accuracy)\n",
    "    \n",
    "plt.plot(range(1,11), training_accuracy, label=\"Training Accuracy\")\n",
    "plt.plot(range(1,11), testing_accuracy, label=\"Testing Accuracy\")\n",
    "plt.ylabel(\"Accuracy\")\n",
    "plt.xlabel(\"n_neighbors\")\n",
    "plt.legend()"
   ]
  },
  {
   "cell_type": "markdown",
   "metadata": {},
   "source": [
    "This figure shows the training and testing accuracy when choosing diffrent values for K in KNN. It shows that the training accuracy dicreases when K increases while the testing accuracy increases when K increases. The best K value in this model is when K = 5. This gives the heighest generalisation accuracy and a good training accuracy."
   ]
  },
  {
   "cell_type": "markdown",
   "metadata": {},
   "source": [
    "### Task 3\n",
    "Upload the breast cancer data directly from skit learn. Do all the steps above, again."
   ]
  },
  {
   "cell_type": "code",
   "execution_count": null,
   "metadata": {},
   "outputs": [],
   "source": [
    "from sklearn.datasets import load_breast_cancer\n",
    "cancer = load_breast_cancer()\n",
    "X_train2, X_test2, y_train2, y_test2 = train_test_split(cancer.data, cancer.target, stratify = cancer.target, random_state = 66) #stratify parameter will preserve the proportion of output classes as in original dataset, in the train and test datasets as well"
   ]
  },
  {
   "cell_type": "markdown",
   "metadata": {},
   "source": [
    "#### Task 3a\n",
    "Data Exploration and finidng missing data"
   ]
  },
  {
   "cell_type": "code",
   "execution_count": null,
   "metadata": {},
   "outputs": [],
   "source": [
    "cancer_df = pd.DataFrame(data=cancer.data, columns=cancer.feature_names)\n",
    "cancer_df['target'] = cancer.target\n",
    "cancer_df.isnull().sum()"
   ]
  },
  {
   "cell_type": "markdown",
   "metadata": {},
   "source": [
    "There is no missing data"
   ]
  },
  {
   "cell_type": "markdown",
   "metadata": {},
   "source": [
    "#### Task 3b\n",
    "Train a KNN model and check the accuracy of the model with diffrent values of K"
   ]
  },
  {
   "cell_type": "code",
   "execution_count": null,
   "metadata": {},
   "outputs": [],
   "source": [
    "#train the data using KNN with diffrent neighbors values\n",
    "for n in range(1,11):\n",
    "    clf_5 = KNeighborsClassifier(n_neighbors = n)\n",
    "    clf_5.fit(X_train2,y_train2)\n",
    "    \n",
    "    #evaluate the model in the training and testing data\n",
    "    print(\"The accuracy of KNN with\", n, \"neighbors in the training data is:\", round(clf_5.score(X_train2,y_train2),3))\n",
    "    print(\"The accuracy of KNN with\", n, \"neighbors in the testing data is:\", round(clf_5.score(X_test2, y_test2),3), \"\\n\")"
   ]
  },
  {
   "cell_type": "code",
   "execution_count": null,
   "metadata": {},
   "outputs": [],
   "source": [
    "#plot a confusion matrix for this model\n",
    "plot_confusion_matrix(clf_5, X_test2, y_test2, cmap = plt.cm.Blues)\n",
    "plt.show()"
   ]
  },
  {
   "cell_type": "markdown",
   "metadata": {},
   "source": [
    "#### Task 3c\n",
    "Calculate F1 on data test split"
   ]
  },
  {
   "cell_type": "code",
   "execution_count": null,
   "metadata": {},
   "outputs": [],
   "source": [
    "#calculate the predicted values using the model. Then calculate the F1 score  143\n",
    "y_predicted = clf_5.predict(X_test2)\n",
    "f1_score(y_test2, y_predicted)"
   ]
  }
 ],
 "metadata": {
  "kernelspec": {
   "display_name": "Python 3",
   "language": "python",
   "name": "python3"
  },
  "language_info": {
   "codemirror_mode": {
    "name": "ipython",
    "version": 3
   },
   "file_extension": ".py",
   "mimetype": "text/x-python",
   "name": "python",
   "nbconvert_exporter": "python",
   "pygments_lexer": "ipython3",
   "version": "3.7.6"
  }
 },
 "nbformat": 4,
 "nbformat_minor": 4
}
