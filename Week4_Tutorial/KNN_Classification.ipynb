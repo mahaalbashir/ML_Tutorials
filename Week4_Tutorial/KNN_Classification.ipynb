{
 "cells": [
  {
   "cell_type": "markdown",
   "metadata": {},
   "source": [
    "# Classifcation using K Nearest Neighbour (KNN)"
   ]
  },
  {
   "cell_type": "code",
   "execution_count": 1,
   "metadata": {},
   "outputs": [
    {
     "name": "stdout",
     "output_type": "stream",
     "text": [
      "Requirement already satisfied: mglearn in c:\\users\\mahaa\\anaconda3\\lib\\site-packages (0.1.9)\n",
      "Requirement already satisfied: pandas in c:\\users\\mahaa\\anaconda3\\lib\\site-packages (from mglearn) (1.0.1)\n",
      "Requirement already satisfied: joblib in c:\\users\\mahaa\\anaconda3\\lib\\site-packages (from mglearn) (0.14.1)\n",
      "Requirement already satisfied: pillow in c:\\users\\mahaa\\anaconda3\\lib\\site-packages (from mglearn) (7.0.0)\n",
      "Requirement already satisfied: scikit-learn in c:\\users\\mahaa\\anaconda3\\lib\\site-packages (from mglearn) (0.22.1)\n",
      "Requirement already satisfied: numpy in c:\\users\\mahaa\\anaconda3\\lib\\site-packages (from mglearn) (1.18.1)\n",
      "Requirement already satisfied: matplotlib in c:\\users\\mahaa\\anaconda3\\lib\\site-packages (from mglearn) (3.1.3)\n",
      "Requirement already satisfied: imageio in c:\\users\\mahaa\\anaconda3\\lib\\site-packages (from mglearn) (2.6.1)\n",
      "Requirement already satisfied: cycler in c:\\users\\mahaa\\anaconda3\\lib\\site-packages (from mglearn) (0.10.0)\n",
      "Requirement already satisfied: pytz>=2017.2 in c:\\users\\mahaa\\anaconda3\\lib\\site-packages (from pandas->mglearn) (2019.3)\n",
      "Requirement already satisfied: python-dateutil>=2.6.1 in c:\\users\\mahaa\\anaconda3\\lib\\site-packages (from pandas->mglearn) (2.8.1)\n",
      "Requirement already satisfied: scipy>=0.17.0 in c:\\users\\mahaa\\anaconda3\\lib\\site-packages (from scikit-learn->mglearn) (1.4.1)\n",
      "Requirement already satisfied: pyparsing!=2.0.4,!=2.1.2,!=2.1.6,>=2.0.1 in c:\\users\\mahaa\\anaconda3\\lib\\site-packages (from matplotlib->mglearn) (2.4.6)\n",
      "Requirement already satisfied: kiwisolver>=1.0.1 in c:\\users\\mahaa\\anaconda3\\lib\\site-packages (from matplotlib->mglearn) (1.1.0)\n",
      "Requirement already satisfied: six in c:\\users\\mahaa\\anaconda3\\lib\\site-packages (from cycler->mglearn) (1.14.0)\n",
      "Requirement already satisfied: setuptools in c:\\users\\mahaa\\anaconda3\\lib\\site-packages (from kiwisolver>=1.0.1->matplotlib->mglearn) (45.2.0.post20200210)\n"
     ]
    }
   ],
   "source": [
    "!pip install mglearn"
   ]
  },
  {
   "cell_type": "code",
   "execution_count": 2,
   "metadata": {},
   "outputs": [],
   "source": [
    "import numpy as np\n",
    "import pandas as pd\n",
    "from sklearn.model_selection import train_test_split\n",
    "from sklearn.neighbors import KNeighborsClassifier\n",
    "from sklearn.metrics import plot_confusion_matrix\n",
    "from sklearn.metrics import f1_score\n",
    "import matplotlib.pyplot as plt\n",
    "import mglearn\n",
    "%matplotlib inline"
   ]
  },
  {
   "cell_type": "markdown",
   "metadata": {},
   "source": [
    "## Task 1"
   ]
  },
  {
   "cell_type": "code",
   "execution_count": 23,
   "metadata": {},
   "outputs": [],
   "source": [
    "#read the breast cancer data from the local device\n",
    "df = pd.read_csv('C:/Users/mahaa/OneDrive/Desktop/UWE/Semester_2/Machine Learning/Week4/Tutorials/Week4_Tutorial/data/breast-cancer-wisconsin.data.txt')\n",
    "#df.head()"
   ]
  },
  {
   "cell_type": "markdown",
   "metadata": {},
   "source": [
    "## Exploratory data analysis"
   ]
  },
  {
   "cell_type": "code",
   "execution_count": 24,
   "metadata": {},
   "outputs": [
    {
     "data": {
      "text/plain": [
       "id       0\n",
       "par1     0\n",
       "par2     0\n",
       "par3     0\n",
       "par4     0\n",
       "par5     0\n",
       "par6     0\n",
       "par7     0\n",
       "par8     0\n",
       "par9     0\n",
       "class    0\n",
       "dtype: int64"
      ]
     },
     "execution_count": 24,
     "metadata": {},
     "output_type": "execute_result"
    }
   ],
   "source": [
    "#checking for null values\n",
    "df.isnull().sum()"
   ]
  },
  {
   "cell_type": "code",
   "execution_count": 25,
   "metadata": {},
   "outputs": [
    {
     "name": "stdout",
     "output_type": "stream",
     "text": [
      "[1000025, 1002945, 1015425, 1016277, 1017023, 1017122, 1018099, 1018561, 1033078, 1035283, 1036172, 1041801, 1043999, 1044572, 1047630, 1048672, 1049815, 1050670, 1050718, 1054590, 1054593, 1056784, 1057013, 1059552, 1065726, 1066373, 1066979, 1067444, 1070935, 1071760, 1072179, 1074610, 1075123, 1079304, 1080185, 1081791, 1084584, 1091262, 1096800, 1099510, 1100524, 1102573, 1103608, 1103722, 1105257, 1105524, 1106095, 1106829, 1108370, 1108449, 1110102, 1110503, 1110524, 1111249, 1112209, 1113038, 1113483, 1113906, 1115282, 1115293, 1116116, 1116132, 1116192, 1116998, 1117152, 1118039, 1120559, 1121732, 1121919, 1123061, 1124651, 1125035, 1126417, 1131294, 1132347, 1133041, 1133136, 1136142, 1137156, 1143978, 1147044, 1147699, 1147748, 1148278, 1148873, 1152331, 1155546, 1156272, 1156948, 1157734, 1158247, 1160476, 1164066, 1165297, 1165790, 1165926, 1166630, 1166654, 1167439, 1167471, 1168359, 1168736, 1169049, 1170419, 1170420, 1171710, 1171795, 1171845, 1172152, 1173216, 1173235, 1173347, 1173509, 1173514, 1173681, 1174057, 1174131, 1174428, 1175937, 1176406, 1176881, 1177027, 1177399, 1177512, 1178580, 1179818, 1180194, 1180523, 1180831, 1181356, 1182404, 1182410, 1183240, 1183246, 1183516, 1183911, 1183983, 1184184, 1184241, 1184840, 1185609, 1185610, 1187457, 1187805, 1188472, 1189266, 1189286, 1190394, 1190485, 1192325, 1193091, 1193210, 1193683, 1196295, 1196915, 1197080, 1197270, 1197440, 1197510, 1197979, 1197993, 1198128, 1198641, 1199219, 1199731, 1199983, 1200772, 1200847, 1200892, 1200952, 1201834, 1201936, 1202125, 1202812, 1203096, 1204242, 1204898, 1205138, 1205579, 1206089, 1206695, 1206841, 1207986, 1208301, 1210963, 1211202, 1212232, 1212251, 1212422, 1213375, 1213383, 1214092, 1214556, 1214966, 1216694, 1216947, 1217051, 1217264, 1218105, 1218741, 1218860, 1219406, 1219525, 1219859, 1220330, 1221863, 1222047, 1222936, 1223282, 1223426, 1223793, 1223967, 1224329, 1225799, 1226012, 1226612, 1227210, 1227244, 1227481, 1228152, 1228311, 1230175, 1230688, 1231387, 1231706, 1232225, 1236043, 1241232, 1241559, 1241679, 1242364, 1243256, 1270479, 1276091, 1277018, 128059, 1285531, 1287775, 144888, 145447, 167528, 169356, 183913, 191250, 242970, 255644, 263538, 274137, 303213, 314428, 320675, 324427, 385103, 390840, 411453, 428903, 431495, 432809, 434518, 452264, 456282, 476903, 486283, 486662, 488173, 492268, 508234, 527363, 529329, 535331, 543558, 555977, 560680, 561477, 563649, 601265, 606140, 606722, 616240, 61634, 625201, 63375, 635844, 636130, 640744, 646904, 653777, 659642, 666090, 666942, 667204, 673637, 684955, 688033, 691628, 693702, 704097, 704168, 706426, 709287, 718641, 721482, 730881, 733639, 733823, 740492, 743348, 752904, 756136, 760001, 760239, 76389, 764974, 770066, 785208, 785615, 792744, 797327, 798429, 806423, 809912, 810104, 814265, 814911, 822829, 826923, 830690, 831268, 832226, 832567, 836433, 837082, 846832, 850831, 855524, 857774, 859164, 859350, 866325, 873549, 877291, 877943, 888169, 888523, 896404, 897172, 95719, 160296, 342245, 428598, 492561, 493452, 521441, 636437, 640712, 654244, 657753, 685977, 805448, 846423, 1002504, 1022257, 1026122, 1071084, 1080233, 1114570, 1116715, 1131411, 1151734, 1156017, 1158405, 1168278, 1176187, 1196263, 1196475, 1206314, 1211265, 1213784, 1223003, 1223306, 1223543, 1229929, 1231853, 1234554, 1236837, 1237674, 1238021, 1238464, 1238633, 1238915, 1238948, 1239232, 1239347, 1239967, 1240337, 1253505, 1255384, 1257200, 1257648, 1257815, 1257938, 1258549, 1258556, 1266154, 1272039, 1277629, 1293439, 1294562, 1295186, 527337, 558538, 566509, 608157, 677910, 734111, 780555, 827627, 1049837, 1058849, 1193544, 1201870, 1202253, 1227081, 1230994, 1238410, 1246562, 1257470, 1259008, 1266124, 1267898, 1268313, 1268804, 1280258, 1293966, 1296572, 1298416, 1299596, 1181685, 1211594, 1238777, 1257608, 1269574, 1277145, 1287282, 1296025, 1296263, 1296593, 1299161, 1301945, 1302428, 1318169, 474162, 787451, 1002025, 1070522, 1073960, 1076352, 1084139, 1119189, 1133991, 1142706, 1155967, 1170945, 1181567, 1204558, 1217952, 1224565, 1238186, 1253917, 1265899, 1268766, 1277268, 1286943, 1295508, 1297327, 1297522, 1298360, 1299924, 1299994, 1304595, 1306282, 1313325, 1320077, 1320304, 1330439, 333093, 369565, 412300, 672113, 749653, 769612, 807657, 8233704, 837480, 867392, 869828, 1043068, 1056171, 1061990, 1113061, 1135090, 1145420, 1158157, 1171578, 1174841, 1184586, 1186936, 1197527, 1222464, 1240603, 1241035, 1287971, 1289391, 1306339, 1313658, 1313982, 1321264, 1321321, 1321348, 1321931, 1321942, 1328331, 1328755, 1331405, 1331412, 1333104, 1334071, 1343068, 1343374, 1344121, 142932, 183936, 324382, 378275, 690557, 695091, 695219, 824249, 871549, 878358, 1107684, 1115762, 1217717, 1239420, 1254538, 1261751, 1268275, 1272166, 1294261, 1295529, 1298484, 1311875, 1315506, 1320141, 1325309, 1333063, 1333495, 1334659, 1336798, 1344449, 1350568, 1352663, 188336, 352431, 353098, 557583, 636375, 736150, 803531, 1016634, 1031608, 1041043, 1042252, 1057067, 1073836, 1083817, 1096352, 1140597, 1149548, 1174009, 1183596, 1190386, 1190546, 1213273, 1218982, 1225382, 1235807, 1253955, 1257366, 1260659, 1268952, 1275807, 1277792, 1285722, 1288608, 1290203, 1294413, 1303489, 1311033, 1311108, 1315807, 1318671, 1319609, 1323477, 1324572, 1324681, 1325159, 1326892, 1330361, 1333877, 1334015, 1334667, 1339781, 13454352, 1345452, 1345593, 1347749, 1347943, 1348851, 1350319, 1350423, 1352848, 1353092, 1354840, 1355260, 1365075, 1365328, 1368267, 1368273, 1368882, 1369821, 1371026, 1371920, 466906, 534555, 536708, 566346, 603148, 654546, 714039, 763235, 776715, 841769, 888820, 897471, 5, 3, 6, 4, 8, 1, 2, 7, 10, 9, 1, 4, 8, 10, 2, 3, 7, 5, 6, 9, 1, 4, 8, 10, 2, 3, 5, 6, 7, 9, 1, 5, 3, 8, 10, 4, 6, 2, 9, 7, 2, 7, 3, 1, 6, 4, 5, 8, 10, 9, '1', '10', '2', '4', '3', '9', '7', '?', '5', '8', '6', 3, 9, 1, 2, 4, 5, 7, 8, 6, 10, 1, 2, 7, 4, 5, 3, 10, 6, 9, 8, 1, 5, 4, 2, 3, 7, 10, 8, 6, 2, 4]\n"
     ]
    }
   ],
   "source": [
    "#checking for nonsense values\n",
    "unique_values = []\n",
    "for col in df.columns:\n",
    "    unique_values.extend(df[col].unique()) \n",
    "print(unique_values)"
   ]
  },
  {
   "cell_type": "code",
   "execution_count": 26,
   "metadata": {},
   "outputs": [],
   "source": [
    "#replace the ? with number\n",
    "df.replace('?',-9999, inplace = True)"
   ]
  },
  {
   "cell_type": "code",
   "execution_count": 27,
   "metadata": {},
   "outputs": [],
   "source": [
    "#delete the id cloumn\n",
    "df_1 = df.drop(['id'], 1)"
   ]
  },
  {
   "cell_type": "markdown",
   "metadata": {},
   "source": [
    "## Training and Testing"
   ]
  },
  {
   "cell_type": "code",
   "execution_count": 28,
   "metadata": {},
   "outputs": [],
   "source": [
    "#divide the data frame into input array and output array\n",
    "x = np.array(df_1.drop(['class'], 1)) \n",
    "y = np.array(df_1['class'])"
   ]
  },
  {
   "cell_type": "code",
   "execution_count": 29,
   "metadata": {},
   "outputs": [],
   "source": [
    "#Split the data into training data and testing data\n",
    "#random state is used to produce the same training and testing data every time this function is run\n",
    "X_train, X_test, y_train, y_test = train_test_split(x, y, random_state = 0)"
   ]
  },
  {
   "cell_type": "code",
   "execution_count": 30,
   "metadata": {},
   "outputs": [
    {
     "name": "stdout",
     "output_type": "stream",
     "text": [
      "1.0\n",
      "0.9714285714285714\n"
     ]
    }
   ],
   "source": [
    "#train the data using KNN with one neighbor\n",
    "clf = KNeighborsClassifier(n_neighbors = 1)\n",
    "clf.fit(X_train, y_train)\n",
    "\n",
    "#evaluate the model in the training and testing data\n",
    "print(clf.score(X_train,y_train))\n",
    "print(clf.score(X_test, y_test))"
   ]
  },
  {
   "cell_type": "code",
   "execution_count": 31,
   "metadata": {},
   "outputs": [
    {
     "name": "stdout",
     "output_type": "stream",
     "text": [
      "[[4 3 3 2 1 2 1 1 2]]\n",
      "[2]\n"
     ]
    }
   ],
   "source": [
    "#predict the class of new instance using the model\n",
    "data = np.array([4,3,3,2,1,2,1,1,2])\n",
    "print(data.reshape(1,-1))\n",
    "prediction = clf.predict(data.reshape(1,-1)) #-1 means unknown dimension, it will be calculated\n",
    "print(prediction)"
   ]
  },
  {
   "cell_type": "markdown",
   "metadata": {},
   "source": [
    "### Task 1a\n",
    "Change the number of neighbors and test the model"
   ]
  },
  {
   "cell_type": "code",
   "execution_count": 32,
   "metadata": {},
   "outputs": [
    {
     "name": "stdout",
     "output_type": "stream",
     "text": [
      "The accuracy of KNN with 1 neighbors in the training data is: 1.0\n",
      "The accuracy of KNN with 1 neighbors in the testing data is: 0.971 \n",
      "\n",
      "The accuracy of KNN with 2 neighbors in the training data is: 0.977\n",
      "The accuracy of KNN with 2 neighbors in the testing data is: 0.954 \n",
      "\n",
      "The accuracy of KNN with 3 neighbors in the training data is: 0.977\n",
      "The accuracy of KNN with 3 neighbors in the testing data is: 0.977 \n",
      "\n",
      "The accuracy of KNN with 4 neighbors in the training data is: 0.975\n",
      "The accuracy of KNN with 4 neighbors in the testing data is: 0.977 \n",
      "\n",
      "The accuracy of KNN with 5 neighbors in the training data is: 0.977\n",
      "The accuracy of KNN with 5 neighbors in the testing data is: 0.983 \n",
      "\n",
      "The accuracy of KNN with 6 neighbors in the training data is: 0.969\n",
      "The accuracy of KNN with 6 neighbors in the testing data is: 0.971 \n",
      "\n",
      "The accuracy of KNN with 7 neighbors in the training data is: 0.977\n",
      "The accuracy of KNN with 7 neighbors in the testing data is: 0.971 \n",
      "\n",
      "The accuracy of KNN with 8 neighbors in the training data is: 0.968\n",
      "The accuracy of KNN with 8 neighbors in the testing data is: 0.971 \n",
      "\n",
      "The accuracy of KNN with 9 neighbors in the training data is: 0.973\n",
      "The accuracy of KNN with 9 neighbors in the testing data is: 0.977 \n",
      "\n",
      "The accuracy of KNN with 10 neighbors in the training data is: 0.962\n",
      "The accuracy of KNN with 10 neighbors in the testing data is: 0.971 \n",
      "\n"
     ]
    }
   ],
   "source": [
    "#train the data using KNN with diffrent neighbors values with the default distance function\n",
    "for n in range(1,11):\n",
    "    clf_1 = KNeighborsClassifier(n_neighbors = n)\n",
    "    clf_1.fit(X_train, y_train)\n",
    "\n",
    "    #evaluate the model in the training and testing data\n",
    "    print(\"The accuracy of KNN with\", n, \"neighbors in the training data is:\", round(clf_1.score(X_train,y_train),3))\n",
    "    print(\"The accuracy of KNN with\", n, \"neighbors in the testing data is:\", round(clf_1.score(X_test, y_test),3), \"\\n\")"
   ]
  },
  {
   "cell_type": "markdown",
   "metadata": {},
   "source": [
    "The model performs better when training with KNN with 5 neighours"
   ]
  },
  {
   "cell_type": "markdown",
   "metadata": {},
   "source": [
    "### Task 1b\n",
    "Leave the id column and evaluate the model"
   ]
  },
  {
   "cell_type": "code",
   "execution_count": 33,
   "metadata": {},
   "outputs": [
    {
     "name": "stdout",
     "output_type": "stream",
     "text": [
      "The accuracy of KNN with 2 neighbors in the training data is: 0.809\n",
      "The accuracy of KNN with 2 neighbors in the testing data is: 0.6 \n",
      "\n",
      "The accuracy of KNN with 3 neighbors in the training data is: 0.815\n",
      "The accuracy of KNN with 3 neighbors in the testing data is: 0.566 \n",
      "\n",
      "The accuracy of KNN with 4 neighbors in the training data is: 0.739\n",
      "The accuracy of KNN with 4 neighbors in the testing data is: 0.611 \n",
      "\n",
      "The accuracy of KNN with 5 neighbors in the training data is: 0.74\n",
      "The accuracy of KNN with 5 neighbors in the testing data is: 0.629 \n",
      "\n",
      "The accuracy of KNN with 6 neighbors in the training data is: 0.718\n",
      "The accuracy of KNN with 6 neighbors in the testing data is: 0.606 \n",
      "\n",
      "The accuracy of KNN with 7 neighbors in the training data is: 0.719\n",
      "The accuracy of KNN with 7 neighbors in the testing data is: 0.566 \n",
      "\n",
      "The accuracy of KNN with 8 neighbors in the training data is: 0.708\n",
      "The accuracy of KNN with 8 neighbors in the testing data is: 0.606 \n",
      "\n",
      "The accuracy of KNN with 9 neighbors in the training data is: 0.704\n",
      "The accuracy of KNN with 9 neighbors in the testing data is: 0.589 \n",
      "\n",
      "The accuracy of KNN with 10 neighbors in the training data is: 0.702\n",
      "The accuracy of KNN with 10 neighbors in the testing data is: 0.6 \n",
      "\n"
     ]
    }
   ],
   "source": [
    "#divide the data frame into input array and output array\n",
    "x1 = np.array(df.drop(['class'], 1)) \n",
    "y1 = np.array(df['class'])\n",
    "\n",
    "#Split the data into training data and testing data\n",
    "X_train1, X_test1, y_train1, y_test1 = train_test_split(x1, y1, random_state = 0)\n",
    "\n",
    "#train the data using KNN with diffrent neighbors values\n",
    "for n in range(2,11):\n",
    "    clf_2 = KNeighborsClassifier(n_neighbors = n)\n",
    "    clf_2.fit(X_train1, y_train1)\n",
    "\n",
    "    #evaluate the model in the training and testing data\n",
    "    print(\"The accuracy of KNN with\", n, \"neighbors in the training data is:\", round(clf_2.score(X_train1,y_train1),3))\n",
    "    print(\"The accuracy of KNN with\", n, \"neighbors in the testing data is:\", round(clf_2.score(X_test1, y_test1),3), \"\\n\")"
   ]
  },
  {
   "cell_type": "markdown",
   "metadata": {},
   "source": [
    "The acuuracy of the model decrese significantly after adding the id column to the model. This is because id in not correlated with the output class. Thus, it does not add any valuable information when predicting the output class."
   ]
  },
  {
   "cell_type": "markdown",
   "metadata": {},
   "source": [
    "### Task 1c\n",
    "Use manhaten distance"
   ]
  },
  {
   "cell_type": "code",
   "execution_count": 34,
   "metadata": {},
   "outputs": [
    {
     "name": "stdout",
     "output_type": "stream",
     "text": [
      "The accuracy of KNN with 1 neighbors in the training data is: 1.0\n",
      "The accuracy of KNN with 1 neighbors in the testing data is: 0.971 \n",
      "\n",
      "The accuracy of KNN with 2 neighbors in the training data is: 0.979\n",
      "The accuracy of KNN with 2 neighbors in the testing data is: 0.954 \n",
      "\n",
      "The accuracy of KNN with 3 neighbors in the training data is: 0.981\n",
      "The accuracy of KNN with 3 neighbors in the testing data is: 0.971 \n",
      "\n",
      "The accuracy of KNN with 4 neighbors in the training data is: 0.977\n",
      "The accuracy of KNN with 4 neighbors in the testing data is: 0.971 \n",
      "\n",
      "The accuracy of KNN with 5 neighbors in the training data is: 0.973\n",
      "The accuracy of KNN with 5 neighbors in the testing data is: 0.977 \n",
      "\n",
      "The accuracy of KNN with 6 neighbors in the training data is: 0.968\n",
      "The accuracy of KNN with 6 neighbors in the testing data is: 0.971 \n",
      "\n",
      "The accuracy of KNN with 7 neighbors in the training data is: 0.966\n",
      "The accuracy of KNN with 7 neighbors in the testing data is: 0.971 \n",
      "\n",
      "The accuracy of KNN with 8 neighbors in the training data is: 0.962\n",
      "The accuracy of KNN with 8 neighbors in the testing data is: 0.966 \n",
      "\n",
      "The accuracy of KNN with 9 neighbors in the training data is: 0.964\n",
      "The accuracy of KNN with 9 neighbors in the testing data is: 0.966 \n",
      "\n",
      "The accuracy of KNN with 10 neighbors in the training data is: 0.964\n",
      "The accuracy of KNN with 10 neighbors in the testing data is: 0.966 \n",
      "\n"
     ]
    }
   ],
   "source": [
    "#train the data using KNN with diffrent neighbors values and Manhatten distance\n",
    "for n in range(1,11):\n",
    "    clf_3 = KNeighborsClassifier(n_neighbors = n, metric = 'manhattan')\n",
    "    clf_3.fit(X_train, y_train)\n",
    "\n",
    "    #evaluate the model in the training and testing data\n",
    "    print(\"The accuracy of KNN with\", n, \"neighbors in the training data is:\", round(clf_3.score(X_train,y_train),3))\n",
    "    print(\"The accuracy of KNN with\", n, \"neighbors in the testing data is:\", round(clf_3.score(X_test, y_test),3), \"\\n\")"
   ]
  },
  {
   "cell_type": "markdown",
   "metadata": {},
   "source": [
    "Still Euclidean distance gives the heightes model performance"
   ]
  },
  {
   "cell_type": "markdown",
   "metadata": {},
   "source": [
    "## Task 2\n",
    "Plot the training acuuracy and the testing accuracy while K range from 1 to 10. Then check which k value is better in this case "
   ]
  },
  {
   "cell_type": "code",
   "execution_count": 35,
   "metadata": {},
   "outputs": [
    {
     "name": "stdout",
     "output_type": "stream",
     "text": [
      "[1.0, 0.9770992366412213, 0.9770992366412213, 0.9751908396946565, 0.9770992366412213, 0.9694656488549618, 0.9770992366412213, 0.9675572519083969, 0.9732824427480916, 0.9618320610687023]\n",
      "[0.9714285714285714, 0.9542857142857143, 0.9771428571428571, 0.9771428571428571, 0.9828571428571429, 0.9714285714285714, 0.9714285714285714, 0.9714285714285714, 0.9771428571428571, 0.9714285714285714]\n"
     ]
    },
    {
     "data": {
      "text/plain": [
       "<matplotlib.legend.Legend at 0x205fbb34688>"
      ]
     },
     "execution_count": 35,
     "metadata": {},
     "output_type": "execute_result"
    },
    {
     "data": {
      "image/png": "[encoded data removed]",
      "text/plain": [
       "<Figure size 432x288 with 1 Axes>"
      ]
     },
     "metadata": {
      "needs_background": "light"
     },
     "output_type": "display_data"
    }
   ],
   "source": [
    "#Plot shows the training and testing accuracy using diffrent K values\n",
    "training_accuracy = []\n",
    "testing_accuracy = []\n",
    "\n",
    "for n_neighbors in range (1,11):\n",
    "    #build the model\n",
    "    clf_4 = KNeighborsClassifier(n_neighbors = n_neighbors)\n",
    "    clf_4.fit(X_train, y_train)\n",
    "    \n",
    "    #record training test accuracy\n",
    "    training_accuracy.append(clf_4.score(X_train, y_train))\n",
    "    #record training test accuracy\n",
    "    testing_accuracy.append(clf_4.score(X_test, y_test))\n",
    "    \n",
    "print(training_accuracy)\n",
    "print(testing_accuracy)\n",
    "    \n",
    "plt.plot(range(1,11), training_accuracy, label=\"Training Accuracy\")\n",
    "plt.plot(range(1,11), testing_accuracy, label=\"Testing Accuracy\")\n",
    "plt.ylabel(\"Accuracy\")\n",
    "plt.xlabel(\"n_neighbors\")\n",
    "plt.legend()"
   ]
  },
  {
   "cell_type": "markdown",
   "metadata": {},
   "source": [
    "This figure shows the training and testing accuracy when choosing diffrent values for K in KNN. It shows that the training accuracy dicreases when K increases while the testing accuracy increases when K increases. The best K value in this model is when K = 5. This gives the heighest generalisation accuracy and a good training accuracy."
   ]
  },
  {
   "cell_type": "markdown",
   "metadata": {},
   "source": [
    "### Task 3\n",
    "Upload the breast cancer data directly from skit learn. Do all the steps above, again."
   ]
  },
  {
   "cell_type": "code",
   "execution_count": 8,
   "metadata": {},
   "outputs": [],
   "source": [
    "from sklearn.datasets import load_breast_cancer\n",
    "cancer = load_breast_cancer()\n",
    "X_train2, X_test2, y_train2, y_test2 = train_test_split(cancer.data, cancer.target, stratify = cancer.target, random_state = 66) #stratify parameter will preserve the proportion of output classes as in original dataset, in the train and test datasets as well"
   ]
  },
  {
   "cell_type": "markdown",
   "metadata": {},
   "source": [
    "#### Task 3a\n",
    "Data Exploration and finidng missing data"
   ]
  },
  {
   "cell_type": "code",
   "execution_count": 9,
   "metadata": {},
   "outputs": [
    {
     "data": {
      "text/plain": [
       "mean radius                0\n",
       "mean texture               0\n",
       "mean perimeter             0\n",
       "mean area                  0\n",
       "mean smoothness            0\n",
       "mean compactness           0\n",
       "mean concavity             0\n",
       "mean concave points        0\n",
       "mean symmetry              0\n",
       "mean fractal dimension     0\n",
       "radius error               0\n",
       "texture error              0\n",
       "perimeter error            0\n",
       "area error                 0\n",
       "smoothness error           0\n",
       "compactness error          0\n",
       "concavity error            0\n",
       "concave points error       0\n",
       "symmetry error             0\n",
       "fractal dimension error    0\n",
       "worst radius               0\n",
       "worst texture              0\n",
       "worst perimeter            0\n",
       "worst area                 0\n",
       "worst smoothness           0\n",
       "worst compactness          0\n",
       "worst concavity            0\n",
       "worst concave points       0\n",
       "worst symmetry             0\n",
       "worst fractal dimension    0\n",
       "target                     0\n",
       "dtype: int64"
      ]
     },
     "execution_count": 9,
     "metadata": {},
     "output_type": "execute_result"
    }
   ],
   "source": [
    "cancer_df = pd.DataFrame(data=cancer.data, columns=cancer.feature_names)\n",
    "cancer_df['target'] = cancer.target\n",
    "cancer_df.isnull().sum()"
   ]
  },
  {
   "cell_type": "markdown",
   "metadata": {},
   "source": [
    "There is no missing data"
   ]
  },
  {
   "cell_type": "markdown",
   "metadata": {},
   "source": [
    "#### Task 3b\n",
    "Train a KNN model and check the accuracy of the model with diffrent values of K"
   ]
  },
  {
   "cell_type": "code",
   "execution_count": 14,
   "metadata": {},
   "outputs": [
    {
     "name": "stdout",
     "output_type": "stream",
     "text": [
      "The accuracy of KNN with 1 neighbors in the training data is: 1.0\n",
      "The accuracy of KNN with 1 neighbors in the testing data is: 0.902 \n",
      "\n",
      "The accuracy of KNN with 2 neighbors in the training data is: 0.977\n",
      "The accuracy of KNN with 2 neighbors in the testing data is: 0.888 \n",
      "\n",
      "The accuracy of KNN with 3 neighbors in the training data is: 0.958\n",
      "The accuracy of KNN with 3 neighbors in the testing data is: 0.923 \n",
      "\n",
      "The accuracy of KNN with 4 neighbors in the training data is: 0.955\n",
      "The accuracy of KNN with 4 neighbors in the testing data is: 0.923 \n",
      "\n",
      "The accuracy of KNN with 5 neighbors in the training data is: 0.948\n",
      "The accuracy of KNN with 5 neighbors in the testing data is: 0.923 \n",
      "\n",
      "The accuracy of KNN with 6 neighbors in the training data is: 0.946\n",
      "The accuracy of KNN with 6 neighbors in the testing data is: 0.937 \n",
      "\n",
      "The accuracy of KNN with 7 neighbors in the training data is: 0.944\n",
      "The accuracy of KNN with 7 neighbors in the testing data is: 0.93 \n",
      "\n",
      "The accuracy of KNN with 8 neighbors in the training data is: 0.941\n",
      "The accuracy of KNN with 8 neighbors in the testing data is: 0.93 \n",
      "\n",
      "The accuracy of KNN with 9 neighbors in the training data is: 0.934\n",
      "The accuracy of KNN with 9 neighbors in the testing data is: 0.916 \n",
      "\n",
      "The accuracy of KNN with 10 neighbors in the training data is: 0.939\n",
      "The accuracy of KNN with 10 neighbors in the testing data is: 0.916 \n",
      "\n"
     ]
    },
    {
     "data": {
      "text/plain": [
       "KNeighborsClassifier(algorithm='auto', leaf_size=30, metric='minkowski',\n",
       "                     metric_params=None, n_jobs=None, n_neighbors=6, p=2,\n",
       "                     weights='uniform')"
      ]
     },
     "execution_count": 14,
     "metadata": {},
     "output_type": "execute_result"
    }
   ],
   "source": [
    "#train the data using KNN with diffrent neighbors values\n",
    "for n in range(1,11):\n",
    "    clf_5 = KNeighborsClassifier(n_neighbors = n)\n",
    "    clf_5.fit(X_train2,y_train2)\n",
    "    \n",
    "    #evaluate the model in the training and testing data\n",
    "    print(\"The accuracy of KNN with\", n, \"neighbors in the training data is:\", round(clf_5.score(X_train2,y_train2),3))\n",
    "    print(\"The accuracy of KNN with\", n, \"neighbors in the testing data is:\", round(clf_5.score(X_test2, y_test2),3), \"\\n\")\n",
    "    \n",
    "clf_6 = KNeighborsClassifier(n_neighbors = 6)\n",
    "clf_6.fit(X_train2,y_train2)"
   ]
  },
  {
   "cell_type": "markdown",
   "metadata": {},
   "source": [
    "#### Task 3c\n",
    "Create a confusion matrix"
   ]
  },
  {
   "cell_type": "code",
   "execution_count": 15,
   "metadata": {},
   "outputs": [
    {
     "data": {
      "image/png": "[encoded data removed]",
      "text/plain": [
       "<Figure size 432x288 with 2 Axes>"
      ]
     },
     "metadata": {
      "needs_background": "light"
     },
     "output_type": "display_data"
    }
   ],
   "source": [
    "#plot a confusion matrix for this model\n",
    "plot_confusion_matrix(clf_6, X_test2, y_test2, cmap = plt.cm.Blues)\n",
    "plt.show()"
   ]
  },
  {
   "cell_type": "markdown",
   "metadata": {},
   "source": [
    "#### Task 3d\n",
    "Calculate F1 on data test split"
   ]
  },
  {
   "cell_type": "code",
   "execution_count": 16,
   "metadata": {},
   "outputs": [
    {
     "data": {
      "text/plain": [
       "0.9502762430939227"
      ]
     },
     "execution_count": 16,
     "metadata": {},
     "output_type": "execute_result"
    }
   ],
   "source": [
    "#calculate the predicted values using the model. Then calculate the F1 score  143\n",
    "y_predicted = clf_6.predict(X_test2)\n",
    "f1_score(y_test2, y_predicted)"
   ]
  },
  {
   "cell_type": "markdown",
   "metadata": {},
   "source": [
    "#### Task 3e"
   ]
  },
  {
   "cell_type": "code",
   "execution_count": null,
   "metadata": {},
   "outputs": [],
   "source": []
  },
  {
   "cell_type": "markdown",
   "metadata": {},
   "source": [
    "### Task 4\n",
    "Visualise calssifier boundery"
   ]
  },
  {
   "cell_type": "code",
   "execution_count": 38,
   "metadata": {},
   "outputs": [
    {
     "data": {
      "text/plain": [
       "(array([[ 9.96346605,  4.59676542],\n",
       "        [11.0329545 , -0.16816717],\n",
       "        [11.54155807,  5.21116083],\n",
       "        [ 8.69289001,  1.54322016],\n",
       "        [ 8.1062269 ,  4.28695977],\n",
       "        [ 8.30988863,  4.80623966],\n",
       "        [11.93027136,  4.64866327],\n",
       "        [ 9.67284681, -0.20283165],\n",
       "        [ 8.34810316,  5.13415623],\n",
       "        [ 8.67494727,  4.47573059],\n",
       "        [ 9.17748385,  5.09283177],\n",
       "        [10.24028948,  2.45544401],\n",
       "        [ 8.68937095,  1.48709629],\n",
       "        [ 8.92229526, -0.63993225],\n",
       "        [ 9.49123469,  4.33224792],\n",
       "        [ 9.25694192,  5.13284858],\n",
       "        [ 7.99815287,  4.8525051 ],\n",
       "        [ 8.18378052,  1.29564214],\n",
       "        [ 8.7337095 ,  2.49162431],\n",
       "        [ 9.32298256,  5.09840649],\n",
       "        [10.06393839,  0.99078055],\n",
       "        [ 9.50048972, -0.26430318],\n",
       "        [ 8.34468785,  1.63824349],\n",
       "        [ 9.50169345,  1.93824624],\n",
       "        [ 9.15072323,  5.49832246],\n",
       "        [11.563957  ,  1.3389402 ]]),\n",
       " array([1, 0, 1, 0, 0, 1, 1, 0, 1, 1, 1, 1, 0, 0, 1, 1, 1, 0, 0, 1, 0, 0,\n",
       "        0, 0, 1, 0]))"
      ]
     },
     "execution_count": 38,
     "metadata": {},
     "output_type": "execute_result"
    }
   ],
   "source": [
    "x,y = mglearn.datasets.make_forge()\n",
    "X_train, X_test, y_train, y_test = train_test_split(x, y, random_satet = 0)\n",
    "clf_7 = KNeighborsClassifier(n_neighbors = 3)\n",
    "fig, axes = plt.subplots(1,3, figsize(10,3))"
   ]
  }
 ],
 "metadata": {
  "kernelspec": {
   "display_name": "Python 3",
   "language": "python",
   "name": "python3"
  },
  "language_info": {
   "codemirror_mode": {
    "name": "ipython",
    "version": 3
   },
   "file_extension": ".py",
   "mimetype": "text/x-python",
   "name": "python",
   "nbconvert_exporter": "python",
   "pygments_lexer": "ipython3",
   "version": "3.7.6"
  }
 },
 "nbformat": 4,
 "nbformat_minor": 4
}
